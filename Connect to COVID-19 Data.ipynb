{
 "cells": [
  {
   "cell_type": "code",
   "execution_count": null,
   "metadata": {},
   "outputs": [],
   "source": [
    "# Data Source:\n",
    "# https://anypoint.mulesoft.com/exchange/portals/mulesoft-2778/5a0bd415-9488-4e33-88d6-ba31cbef5957/contact-tracing-exp-api/"
   ]
  },
  {
   "cell_type": "markdown",
   "metadata": {},
   "source": [
    "# Using Request Package"
   ]
  },
  {
   "cell_type": "code",
   "execution_count": 179,
   "metadata": {},
   "outputs": [],
   "source": [
    "import requests\n",
    "import pandas as pd\n",
    "import ast # Not used in this project"
   ]
  },
  {
   "cell_type": "code",
   "execution_count": 46,
   "metadata": {},
   "outputs": [],
   "source": [
    "r=requests.get('https://localcoviddata.com/covid19/v1/cases/newYorkTimes?zipCode=13619&daysInPast=6')\n",
    "# 200 – OK. The request was successful. The answer itself depends on the method used (GET, POST, etc.) and the API specification.\n",
    "# 204 – No Content. The server successfully processed the request and did not return any content.\n",
    "# 301 – Moved Permanently. The server responds that the requested page (endpoint) has been moved to another address and redirects to this address.\n",
    "# 400 – Bad Request. The server cannot process the request because the client-side errors (incorrect request format).\n",
    "# 401 – Unauthorized. Occurs when authentication was failed, due to incorrect credentials or even their absence.\n",
    "# 403 – Forbidden. Access to the specified resource is denied.\n",
    "# 404 – Not Found. The requested resource was not found on the server.\n",
    "# 500 – Internal Server Error. Occurs when an unknown error has occurred on the server."
   ]
  },
  {
   "cell_type": "code",
   "execution_count": 50,
   "metadata": {},
   "outputs": [
    {
     "name": "stdout",
     "output_type": "stream",
     "text": [
      "Request is successful.\n"
     ]
    }
   ],
   "source": [
    "if r:\n",
    "  print('Request is successful.')\n",
    "else:\n",
    "  print('Request returned an error.')"
   ]
  },
  {
   "cell_type": "code",
   "execution_count": null,
   "metadata": {},
   "outputs": [],
   "source": [
    "#  This Jason file is complicated,here is the structure overview:\n",
    "#            zipCd\n",
    "#              ↓\n",
    "#            counties\n",
    "#              ↓\n",
    "# geo {rightTopLatLong,leftBottomLatLong,leftTopLatLong,rightBottomLatLong} \n",
    "# historicData {date,deathCt,positiveCt,recoveredCt} #each historicalData has 6 records"
   ]
  },
  {
   "cell_type": "code",
   "execution_count": 183,
   "metadata": {},
   "outputs": [
    {
     "data": {
      "text/plain": [
       "{'zipCd': '13619',\n",
       " 'counties': [{'countyName': 'Lewis County',\n",
       "   'geo': {'rightTopLatLong': -75.61724,\n",
       "    'leftBottomLatLong': 43.981245,\n",
       "    'leftTopLatLong': 43.981245,\n",
       "    'rightBottomLatLong': -75.61724},\n",
       "   'historicData': [{'date': '2021-01-22',\n",
       "     'deathCt': 24,\n",
       "     'positiveCt': 1582,\n",
       "     'recoveredCt': None},\n",
       "    {'date': '2021-01-21',\n",
       "     'deathCt': 24,\n",
       "     'positiveCt': 1558,\n",
       "     'recoveredCt': None},\n",
       "    {'date': '2021-01-20',\n",
       "     'deathCt': 24,\n",
       "     'positiveCt': 1540,\n",
       "     'recoveredCt': None},\n",
       "    {'date': '2021-01-19',\n",
       "     'deathCt': 24,\n",
       "     'positiveCt': 1495,\n",
       "     'recoveredCt': None},\n",
       "    {'date': '2021-01-18',\n",
       "     'deathCt': 24,\n",
       "     'positiveCt': 1459,\n",
       "     'recoveredCt': None},\n",
       "    {'date': '2021-01-17',\n",
       "     'deathCt': 23,\n",
       "     'positiveCt': 1451,\n",
       "     'recoveredCt': None}]},\n",
       "  {'countyName': 'Jefferson County',\n",
       "   'geo': {'rightTopLatLong': -75.61724,\n",
       "    'leftBottomLatLong': 43.981245,\n",
       "    'leftTopLatLong': 43.981245,\n",
       "    'rightBottomLatLong': -75.61724},\n",
       "   'historicData': [{'date': '2021-01-22',\n",
       "     'deathCt': 27,\n",
       "     'positiveCt': 3388,\n",
       "     'recoveredCt': None},\n",
       "    {'date': '2021-01-21',\n",
       "     'deathCt': 25,\n",
       "     'positiveCt': 3331,\n",
       "     'recoveredCt': None},\n",
       "    {'date': '2021-01-20',\n",
       "     'deathCt': 24,\n",
       "     'positiveCt': 3272,\n",
       "     'recoveredCt': None},\n",
       "    {'date': '2021-01-19',\n",
       "     'deathCt': 23,\n",
       "     'positiveCt': 3214,\n",
       "     'recoveredCt': None},\n",
       "    {'date': '2021-01-18',\n",
       "     'deathCt': 22,\n",
       "     'positiveCt': 3145,\n",
       "     'recoveredCt': None},\n",
       "    {'date': '2021-01-17',\n",
       "     'deathCt': 21,\n",
       "     'positiveCt': 3094,\n",
       "     'recoveredCt': None}]}]}"
      ]
     },
     "execution_count": 183,
     "metadata": {},
     "output_type": "execute_result"
    }
   ],
   "source": [
    "r.json()"
   ]
  },
  {
   "cell_type": "markdown",
   "metadata": {},
   "source": [
    "## found this function online"
   ]
  },
  {
   "cell_type": "code",
   "execution_count": null,
   "metadata": {},
   "outputs": [],
   "source": [
    "#https://hackersandslackers.com/extract-data-from-complex-json-python/\n",
    "#https://github.com/JiyuanZhanglalala/Covid-19-Analysis\n",
    "#This funciton is the life saver"
   ]
  },
  {
   "cell_type": "code",
   "execution_count": 181,
   "metadata": {},
   "outputs": [],
   "source": [
    "def json_extract(obj, key):\n",
    "    \"\"\"Recursively fetch values from nested JSON.\"\"\"\n",
    "    arr = []\n",
    "\n",
    "    def extract(obj, arr, key):\n",
    "        \"\"\"Recursively search for values of key in JSON tree.\"\"\"\n",
    "        if isinstance(obj, dict):\n",
    "            for k, v in obj.items():\n",
    "                if isinstance(v, (dict, list)):\n",
    "                    extract(v, arr, key)\n",
    "                elif k == key:\n",
    "                    arr.append(v)\n",
    "        elif isinstance(obj, list):\n",
    "            for item in obj:\n",
    "                extract(item, arr, key)\n",
    "        return arr\n",
    "\n",
    "    values = extract(obj, arr, key)\n",
    "    return values"
   ]
  },
  {
   "cell_type": "code",
   "execution_count": 182,
   "metadata": {},
   "outputs": [
    {
     "data": {
      "text/plain": [
       "[1582, 1558, 1540, 1495, 1459, 1451, 3388, 3331, 3272, 3214, 3145, 3094]"
      ]
     },
     "execution_count": 182,
     "metadata": {},
     "output_type": "execute_result"
    }
   ],
   "source": [
    "json_extract(r.json(),'positiveCt')"
   ]
  },
  {
   "cell_type": "markdown",
   "metadata": {},
   "source": [
    "## This json file's structure is not in a flattened, it is has nested lists"
   ]
  },
  {
   "cell_type": "code",
   "execution_count": 101,
   "metadata": {},
   "outputs": [
    {
     "data": {
      "text/plain": [
       "dict_keys(['zipCd', 'counties'])"
      ]
     },
     "execution_count": 101,
     "metadata": {},
     "output_type": "execute_result"
    }
   ],
   "source": [
    "r.json().keys()"
   ]
  },
  {
   "cell_type": "code",
   "execution_count": 102,
   "metadata": {},
   "outputs": [
    {
     "data": {
      "text/plain": [
       "dict_values(['13619', [{'countyName': 'Lewis County', 'geo': {'rightTopLatLong': -75.61724, 'leftBottomLatLong': 43.981245, 'leftTopLatLong': 43.981245, 'rightBottomLatLong': -75.61724}, 'historicData': [{'date': '2021-01-22', 'deathCt': 24, 'positiveCt': 1582, 'recoveredCt': None}, {'date': '2021-01-21', 'deathCt': 24, 'positiveCt': 1558, 'recoveredCt': None}, {'date': '2021-01-20', 'deathCt': 24, 'positiveCt': 1540, 'recoveredCt': None}, {'date': '2021-01-19', 'deathCt': 24, 'positiveCt': 1495, 'recoveredCt': None}, {'date': '2021-01-18', 'deathCt': 24, 'positiveCt': 1459, 'recoveredCt': None}, {'date': '2021-01-17', 'deathCt': 23, 'positiveCt': 1451, 'recoveredCt': None}]}, {'countyName': 'Jefferson County', 'geo': {'rightTopLatLong': -75.61724, 'leftBottomLatLong': 43.981245, 'leftTopLatLong': 43.981245, 'rightBottomLatLong': -75.61724}, 'historicData': [{'date': '2021-01-22', 'deathCt': 27, 'positiveCt': 3388, 'recoveredCt': None}, {'date': '2021-01-21', 'deathCt': 25, 'positiveCt': 3331, 'recoveredCt': None}, {'date': '2021-01-20', 'deathCt': 24, 'positiveCt': 3272, 'recoveredCt': None}, {'date': '2021-01-19', 'deathCt': 23, 'positiveCt': 3214, 'recoveredCt': None}, {'date': '2021-01-18', 'deathCt': 22, 'positiveCt': 3145, 'recoveredCt': None}, {'date': '2021-01-17', 'deathCt': 21, 'positiveCt': 3094, 'recoveredCt': None}]}]])"
      ]
     },
     "execution_count": 102,
     "metadata": {},
     "output_type": "execute_result"
    }
   ],
   "source": [
    "r.json().values()"
   ]
  },
  {
   "cell_type": "code",
   "execution_count": 138,
   "metadata": {},
   "outputs": [],
   "source": [
    "df1=pd.DataFrame.from_dict(r.json())"
   ]
  },
  {
   "cell_type": "code",
   "execution_count": 139,
   "metadata": {},
   "outputs": [
    {
     "data": {
      "text/html": [
       "<div>\n",
       "<style scoped>\n",
       "    .dataframe tbody tr th:only-of-type {\n",
       "        vertical-align: middle;\n",
       "    }\n",
       "\n",
       "    .dataframe tbody tr th {\n",
       "        vertical-align: top;\n",
       "    }\n",
       "\n",
       "    .dataframe thead th {\n",
       "        text-align: right;\n",
       "    }\n",
       "</style>\n",
       "<table border=\"1\" class=\"dataframe\">\n",
       "  <thead>\n",
       "    <tr style=\"text-align: right;\">\n",
       "      <th></th>\n",
       "      <th>zipCd</th>\n",
       "      <th>counties</th>\n",
       "    </tr>\n",
       "  </thead>\n",
       "  <tbody>\n",
       "    <tr>\n",
       "      <th>0</th>\n",
       "      <td>13619</td>\n",
       "      <td>{'countyName': 'Lewis County', 'geo': {'rightT...</td>\n",
       "    </tr>\n",
       "    <tr>\n",
       "      <th>1</th>\n",
       "      <td>13619</td>\n",
       "      <td>{'countyName': 'Jefferson County', 'geo': {'ri...</td>\n",
       "    </tr>\n",
       "  </tbody>\n",
       "</table>\n",
       "</div>"
      ],
      "text/plain": [
       "   zipCd                                           counties\n",
       "0  13619  {'countyName': 'Lewis County', 'geo': {'rightT...\n",
       "1  13619  {'countyName': 'Jefferson County', 'geo': {'ri..."
      ]
     },
     "execution_count": 139,
     "metadata": {},
     "output_type": "execute_result"
    }
   ],
   "source": [
    "df1"
   ]
  },
  {
   "cell_type": "code",
   "execution_count": 140,
   "metadata": {},
   "outputs": [],
   "source": [
    "df2=pd.DataFrame.from_dict(r.json()[\"counties\"])"
   ]
  },
  {
   "cell_type": "code",
   "execution_count": 116,
   "metadata": {},
   "outputs": [
    {
     "data": {
      "text/html": [
       "<div>\n",
       "<style scoped>\n",
       "    .dataframe tbody tr th:only-of-type {\n",
       "        vertical-align: middle;\n",
       "    }\n",
       "\n",
       "    .dataframe tbody tr th {\n",
       "        vertical-align: top;\n",
       "    }\n",
       "\n",
       "    .dataframe thead th {\n",
       "        text-align: right;\n",
       "    }\n",
       "</style>\n",
       "<table border=\"1\" class=\"dataframe\">\n",
       "  <thead>\n",
       "    <tr style=\"text-align: right;\">\n",
       "      <th></th>\n",
       "      <th>countyName</th>\n",
       "      <th>geo</th>\n",
       "      <th>historicData</th>\n",
       "    </tr>\n",
       "  </thead>\n",
       "  <tbody>\n",
       "    <tr>\n",
       "      <th>0</th>\n",
       "      <td>Lewis County</td>\n",
       "      <td>{'rightTopLatLong': -75.61724, 'leftBottomLatL...</td>\n",
       "      <td>[{'date': '2021-01-22', 'deathCt': 24, 'positi...</td>\n",
       "    </tr>\n",
       "    <tr>\n",
       "      <th>1</th>\n",
       "      <td>Jefferson County</td>\n",
       "      <td>{'rightTopLatLong': -75.61724, 'leftBottomLatL...</td>\n",
       "      <td>[{'date': '2021-01-22', 'deathCt': 27, 'positi...</td>\n",
       "    </tr>\n",
       "  </tbody>\n",
       "</table>\n",
       "</div>"
      ],
      "text/plain": [
       "         countyName                                                geo  \\\n",
       "0      Lewis County  {'rightTopLatLong': -75.61724, 'leftBottomLatL...   \n",
       "1  Jefferson County  {'rightTopLatLong': -75.61724, 'leftBottomLatL...   \n",
       "\n",
       "                                        historicData  \n",
       "0  [{'date': '2021-01-22', 'deathCt': 24, 'positi...  \n",
       "1  [{'date': '2021-01-22', 'deathCt': 27, 'positi...  "
      ]
     },
     "execution_count": 116,
     "metadata": {},
     "output_type": "execute_result"
    }
   ],
   "source": [
    "df2"
   ]
  },
  {
   "cell_type": "code",
   "execution_count": 121,
   "metadata": {},
   "outputs": [
    {
     "data": {
      "text/plain": [
       "{'date': '2021-01-22', 'deathCt': 24, 'positiveCt': 1582, 'recoveredCt': None}"
      ]
     },
     "execution_count": 121,
     "metadata": {},
     "output_type": "execute_result"
    }
   ],
   "source": [
    "df2['historicData'][0][0]"
   ]
  },
  {
   "cell_type": "code",
   "execution_count": null,
   "metadata": {},
   "outputs": [],
   "source": [
    "# It has not finished, it need further steps"
   ]
  },
  {
   "cell_type": "markdown",
   "metadata": {},
   "source": [
    "# Using Pandas.read_json"
   ]
  },
  {
   "cell_type": "markdown",
   "metadata": {},
   "source": [
    "## First try"
   ]
  },
  {
   "cell_type": "code",
   "execution_count": 152,
   "metadata": {},
   "outputs": [],
   "source": [
    "df3=pd.read_json('https://localcoviddata.com/covid19/v1/cases/newYorkTimes?zipCode=13619&daysInPast=6')"
   ]
  },
  {
   "cell_type": "code",
   "execution_count": 153,
   "metadata": {},
   "outputs": [
    {
     "data": {
      "text/html": [
       "<div>\n",
       "<style scoped>\n",
       "    .dataframe tbody tr th:only-of-type {\n",
       "        vertical-align: middle;\n",
       "    }\n",
       "\n",
       "    .dataframe tbody tr th {\n",
       "        vertical-align: top;\n",
       "    }\n",
       "\n",
       "    .dataframe thead th {\n",
       "        text-align: right;\n",
       "    }\n",
       "</style>\n",
       "<table border=\"1\" class=\"dataframe\">\n",
       "  <thead>\n",
       "    <tr style=\"text-align: right;\">\n",
       "      <th></th>\n",
       "      <th>zipCd</th>\n",
       "      <th>counties</th>\n",
       "    </tr>\n",
       "  </thead>\n",
       "  <tbody>\n",
       "    <tr>\n",
       "      <th>0</th>\n",
       "      <td>13619</td>\n",
       "      <td>{'countyName': 'Lewis County', 'geo': {'rightT...</td>\n",
       "    </tr>\n",
       "    <tr>\n",
       "      <th>1</th>\n",
       "      <td>13619</td>\n",
       "      <td>{'countyName': 'Jefferson County', 'geo': {'ri...</td>\n",
       "    </tr>\n",
       "  </tbody>\n",
       "</table>\n",
       "</div>"
      ],
      "text/plain": [
       "   zipCd                                           counties\n",
       "0  13619  {'countyName': 'Lewis County', 'geo': {'rightT...\n",
       "1  13619  {'countyName': 'Jefferson County', 'geo': {'ri..."
      ]
     },
     "execution_count": 153,
     "metadata": {},
     "output_type": "execute_result"
    }
   ],
   "source": [
    "# Does not work, becasue this jason format is special\n",
    "df3"
   ]
  },
  {
   "cell_type": "markdown",
   "metadata": {},
   "source": [
    "## Second Try"
   ]
  },
  {
   "cell_type": "code",
   "execution_count": 128,
   "metadata": {},
   "outputs": [],
   "source": [
    "import json"
   ]
  },
  {
   "cell_type": "code",
   "execution_count": null,
   "metadata": {},
   "outputs": [],
   "source": [
    "#https://pandas.pydata. org/pandas-docs/stable/reference/api/pandas.json_normalize.html"
   ]
  },
  {
   "cell_type": "code",
   "execution_count": 164,
   "metadata": {},
   "outputs": [
    {
     "data": {
      "text/html": [
       "<div>\n",
       "<style scoped>\n",
       "    .dataframe tbody tr th:only-of-type {\n",
       "        vertical-align: middle;\n",
       "    }\n",
       "\n",
       "    .dataframe tbody tr th {\n",
       "        vertical-align: top;\n",
       "    }\n",
       "\n",
       "    .dataframe thead th {\n",
       "        text-align: right;\n",
       "    }\n",
       "</style>\n",
       "<table border=\"1\" class=\"dataframe\">\n",
       "  <thead>\n",
       "    <tr style=\"text-align: right;\">\n",
       "      <th></th>\n",
       "      <th>zipCd</th>\n",
       "      <th>counties</th>\n",
       "    </tr>\n",
       "  </thead>\n",
       "  <tbody>\n",
       "    <tr>\n",
       "      <th>0</th>\n",
       "      <td>13619</td>\n",
       "      <td>[{'countyName': 'Lewis County', 'geo': {'right...</td>\n",
       "    </tr>\n",
       "  </tbody>\n",
       "</table>\n",
       "</div>"
      ],
      "text/plain": [
       "   zipCd                                           counties\n",
       "0  13619  [{'countyName': 'Lewis County', 'geo': {'right..."
      ]
     },
     "execution_count": 164,
     "metadata": {},
     "output_type": "execute_result"
    }
   ],
   "source": [
    "pd.json_normalize(r.json())"
   ]
  },
  {
   "cell_type": "code",
   "execution_count": 165,
   "metadata": {},
   "outputs": [
    {
     "data": {
      "text/html": [
       "<div>\n",
       "<style scoped>\n",
       "    .dataframe tbody tr th:only-of-type {\n",
       "        vertical-align: middle;\n",
       "    }\n",
       "\n",
       "    .dataframe tbody tr th {\n",
       "        vertical-align: top;\n",
       "    }\n",
       "\n",
       "    .dataframe thead th {\n",
       "        text-align: right;\n",
       "    }\n",
       "</style>\n",
       "<table border=\"1\" class=\"dataframe\">\n",
       "  <thead>\n",
       "    <tr style=\"text-align: right;\">\n",
       "      <th></th>\n",
       "      <th>countyName</th>\n",
       "      <th>historicData</th>\n",
       "      <th>geo.rightTopLatLong</th>\n",
       "      <th>geo.leftBottomLatLong</th>\n",
       "      <th>geo.leftTopLatLong</th>\n",
       "      <th>geo.rightBottomLatLong</th>\n",
       "      <th>zipCd</th>\n",
       "    </tr>\n",
       "  </thead>\n",
       "  <tbody>\n",
       "    <tr>\n",
       "      <th>0</th>\n",
       "      <td>Lewis County</td>\n",
       "      <td>[{'date': '2021-01-22', 'deathCt': 24, 'positi...</td>\n",
       "      <td>-75.61724</td>\n",
       "      <td>43.981245</td>\n",
       "      <td>43.981245</td>\n",
       "      <td>-75.61724</td>\n",
       "      <td>13619</td>\n",
       "    </tr>\n",
       "    <tr>\n",
       "      <th>1</th>\n",
       "      <td>Jefferson County</td>\n",
       "      <td>[{'date': '2021-01-22', 'deathCt': 27, 'positi...</td>\n",
       "      <td>-75.61724</td>\n",
       "      <td>43.981245</td>\n",
       "      <td>43.981245</td>\n",
       "      <td>-75.61724</td>\n",
       "      <td>13619</td>\n",
       "    </tr>\n",
       "  </tbody>\n",
       "</table>\n",
       "</div>"
      ],
      "text/plain": [
       "         countyName                                       historicData  \\\n",
       "0      Lewis County  [{'date': '2021-01-22', 'deathCt': 24, 'positi...   \n",
       "1  Jefferson County  [{'date': '2021-01-22', 'deathCt': 27, 'positi...   \n",
       "\n",
       "   geo.rightTopLatLong  geo.leftBottomLatLong  geo.leftTopLatLong  \\\n",
       "0            -75.61724              43.981245           43.981245   \n",
       "1            -75.61724              43.981245           43.981245   \n",
       "\n",
       "   geo.rightBottomLatLong  zipCd  \n",
       "0               -75.61724  13619  \n",
       "1               -75.61724  13619  "
      ]
     },
     "execution_count": 165,
     "metadata": {},
     "output_type": "execute_result"
    }
   ],
   "source": [
    "pd.json_normalize(r.json(),record_path=['counties'],meta=['zipCd'])"
   ]
  },
  {
   "cell_type": "code",
   "execution_count": 198,
   "metadata": {},
   "outputs": [
    {
     "data": {
      "text/html": [
       "<div>\n",
       "<style scoped>\n",
       "    .dataframe tbody tr th:only-of-type {\n",
       "        vertical-align: middle;\n",
       "    }\n",
       "\n",
       "    .dataframe tbody tr th {\n",
       "        vertical-align: top;\n",
       "    }\n",
       "\n",
       "    .dataframe thead th {\n",
       "        text-align: right;\n",
       "    }\n",
       "</style>\n",
       "<table border=\"1\" class=\"dataframe\">\n",
       "  <thead>\n",
       "    <tr style=\"text-align: right;\">\n",
       "      <th></th>\n",
       "      <th>date</th>\n",
       "      <th>deathCt</th>\n",
       "      <th>positiveCt</th>\n",
       "      <th>recoveredCt</th>\n",
       "      <th>zipCd</th>\n",
       "    </tr>\n",
       "  </thead>\n",
       "  <tbody>\n",
       "    <tr>\n",
       "      <th>0</th>\n",
       "      <td>2021-01-22</td>\n",
       "      <td>24</td>\n",
       "      <td>1582</td>\n",
       "      <td>None</td>\n",
       "      <td>13619</td>\n",
       "    </tr>\n",
       "    <tr>\n",
       "      <th>1</th>\n",
       "      <td>2021-01-21</td>\n",
       "      <td>24</td>\n",
       "      <td>1558</td>\n",
       "      <td>None</td>\n",
       "      <td>13619</td>\n",
       "    </tr>\n",
       "    <tr>\n",
       "      <th>2</th>\n",
       "      <td>2021-01-20</td>\n",
       "      <td>24</td>\n",
       "      <td>1540</td>\n",
       "      <td>None</td>\n",
       "      <td>13619</td>\n",
       "    </tr>\n",
       "    <tr>\n",
       "      <th>3</th>\n",
       "      <td>2021-01-19</td>\n",
       "      <td>24</td>\n",
       "      <td>1495</td>\n",
       "      <td>None</td>\n",
       "      <td>13619</td>\n",
       "    </tr>\n",
       "    <tr>\n",
       "      <th>4</th>\n",
       "      <td>2021-01-18</td>\n",
       "      <td>24</td>\n",
       "      <td>1459</td>\n",
       "      <td>None</td>\n",
       "      <td>13619</td>\n",
       "    </tr>\n",
       "    <tr>\n",
       "      <th>5</th>\n",
       "      <td>2021-01-17</td>\n",
       "      <td>23</td>\n",
       "      <td>1451</td>\n",
       "      <td>None</td>\n",
       "      <td>13619</td>\n",
       "    </tr>\n",
       "    <tr>\n",
       "      <th>6</th>\n",
       "      <td>2021-01-22</td>\n",
       "      <td>27</td>\n",
       "      <td>3388</td>\n",
       "      <td>None</td>\n",
       "      <td>13619</td>\n",
       "    </tr>\n",
       "    <tr>\n",
       "      <th>7</th>\n",
       "      <td>2021-01-21</td>\n",
       "      <td>25</td>\n",
       "      <td>3331</td>\n",
       "      <td>None</td>\n",
       "      <td>13619</td>\n",
       "    </tr>\n",
       "    <tr>\n",
       "      <th>8</th>\n",
       "      <td>2021-01-20</td>\n",
       "      <td>24</td>\n",
       "      <td>3272</td>\n",
       "      <td>None</td>\n",
       "      <td>13619</td>\n",
       "    </tr>\n",
       "    <tr>\n",
       "      <th>9</th>\n",
       "      <td>2021-01-19</td>\n",
       "      <td>23</td>\n",
       "      <td>3214</td>\n",
       "      <td>None</td>\n",
       "      <td>13619</td>\n",
       "    </tr>\n",
       "    <tr>\n",
       "      <th>10</th>\n",
       "      <td>2021-01-18</td>\n",
       "      <td>22</td>\n",
       "      <td>3145</td>\n",
       "      <td>None</td>\n",
       "      <td>13619</td>\n",
       "    </tr>\n",
       "    <tr>\n",
       "      <th>11</th>\n",
       "      <td>2021-01-17</td>\n",
       "      <td>21</td>\n",
       "      <td>3094</td>\n",
       "      <td>None</td>\n",
       "      <td>13619</td>\n",
       "    </tr>\n",
       "  </tbody>\n",
       "</table>\n",
       "</div>"
      ],
      "text/plain": [
       "          date  deathCt  positiveCt recoveredCt  zipCd\n",
       "0   2021-01-22       24        1582        None  13619\n",
       "1   2021-01-21       24        1558        None  13619\n",
       "2   2021-01-20       24        1540        None  13619\n",
       "3   2021-01-19       24        1495        None  13619\n",
       "4   2021-01-18       24        1459        None  13619\n",
       "5   2021-01-17       23        1451        None  13619\n",
       "6   2021-01-22       27        3388        None  13619\n",
       "7   2021-01-21       25        3331        None  13619\n",
       "8   2021-01-20       24        3272        None  13619\n",
       "9   2021-01-19       23        3214        None  13619\n",
       "10  2021-01-18       22        3145        None  13619\n",
       "11  2021-01-17       21        3094        None  13619"
      ]
     },
     "execution_count": 198,
     "metadata": {},
     "output_type": "execute_result"
    }
   ],
   "source": [
    "# It shows the all rows's history data\n",
    "pd.json_normalize(r.json(),record_path=['counties','historicData'],meta=['zipCd'])"
   ]
  },
  {
   "cell_type": "code",
   "execution_count": null,
   "metadata": {},
   "outputs": [],
   "source": [
    "#It is still hard to merge them, becasue those three tables has no common key,\n",
    "#and the first 6 rows should be in same county, same geo"
   ]
  },
  {
   "cell_type": "markdown",
   "metadata": {},
   "source": [
    "# Conclusion"
   ]
  },
  {
   "cell_type": "code",
   "execution_count": null,
   "metadata": {},
   "outputs": [],
   "source": [
    "# It is very hard to deal with nested Json file, here is the potentional solution but it does not work on some column"
   ]
  },
  {
   "cell_type": "code",
   "execution_count": null,
   "metadata": {},
   "outputs": [],
   "source": [
    "#https://hackersandslackers.com/extract-data-from-complex-json-python/\n",
    "#https://github.com/JiyuanZhanglalala/Covid-19-Analysis\n",
    "#This funciton is the life saver"
   ]
  },
  {
   "cell_type": "code",
   "execution_count": null,
   "metadata": {},
   "outputs": [],
   "source": [
    "def json_extract(obj, key):\n",
    "    \"\"\"Recursively fetch values from nested JSON.\"\"\"\n",
    "    arr = []\n",
    "\n",
    "    def extract(obj, arr, key):\n",
    "        \"\"\"Recursively search for values of key in JSON tree.\"\"\"\n",
    "        if isinstance(obj, dict):\n",
    "            for k, v in obj.items():\n",
    "                if isinstance(v, (dict, list)):\n",
    "                    extract(v, arr, key)\n",
    "                elif k == key:\n",
    "                    arr.append(v)\n",
    "        elif isinstance(obj, list):\n",
    "            for item in obj:\n",
    "                extract(item, arr, key)\n",
    "        return arr\n",
    "\n",
    "    values = extract(obj, arr, key)\n",
    "    return values"
   ]
  },
  {
   "cell_type": "code",
   "execution_count": 185,
   "metadata": {},
   "outputs": [
    {
     "data": {
      "text/plain": [
       "[1582, 1558, 1540, 1495, 1459, 1451, 3388, 3331, 3272, 3214, 3145, 3094]"
      ]
     },
     "execution_count": 185,
     "metadata": {},
     "output_type": "execute_result"
    }
   ],
   "source": [
    "json_extract(r.json(),'positiveCt')"
   ]
  },
  {
   "cell_type": "code",
   "execution_count": 187,
   "metadata": {},
   "outputs": [
    {
     "data": {
      "text/plain": [
       "['13619']"
      ]
     },
     "execution_count": 187,
     "metadata": {},
     "output_type": "execute_result"
    }
   ],
   "source": [
    "json_extract(r.json(),'zipCd')"
   ]
  },
  {
   "cell_type": "code",
   "execution_count": 189,
   "metadata": {},
   "outputs": [
    {
     "data": {
      "text/plain": [
       "['Lewis County', 'Jefferson County']"
      ]
     },
     "execution_count": 189,
     "metadata": {},
     "output_type": "execute_result"
    }
   ],
   "source": [
    "json_extract(r.json(),'countyName')"
   ]
  },
  {
   "cell_type": "code",
   "execution_count": 191,
   "metadata": {},
   "outputs": [
    {
     "data": {
      "text/plain": [
       "[]"
      ]
     },
     "execution_count": 191,
     "metadata": {},
     "output_type": "execute_result"
    }
   ],
   "source": [
    "json_extract(r.json(),'geo')"
   ]
  },
  {
   "cell_type": "code",
   "execution_count": null,
   "metadata": {},
   "outputs": [],
   "source": []
  }
 ],
 "metadata": {
  "kernelspec": {
   "display_name": "Python 3",
   "language": "python",
   "name": "python3"
  },
  "language_info": {
   "codemirror_mode": {
    "name": "ipython",
    "version": 3
   },
   "file_extension": ".py",
   "mimetype": "text/x-python",
   "name": "python",
   "nbconvert_exporter": "python",
   "pygments_lexer": "ipython3",
   "version": "3.7.4"
  },
  "toc": {
   "base_numbering": 1,
   "nav_menu": {},
   "number_sections": true,
   "sideBar": true,
   "skip_h1_title": false,
   "title_cell": "Table of Contents",
   "title_sidebar": "Contents",
   "toc_cell": false,
   "toc_position": {
    "height": "calc(100% - 180px)",
    "left": "10px",
    "top": "150px",
    "width": "384px"
   },
   "toc_section_display": true,
   "toc_window_display": true
  }
 },
 "nbformat": 4,
 "nbformat_minor": 2
}
